{
 "cells": [
  {
   "cell_type": "code",
   "execution_count": null,
   "metadata": {},
   "outputs": [],
   "source": [
    "import pickle\n",
    "\n",
    "# Load Crop Recommendation Model\n",
    "with open('crop_recommendation_model.pkl', 'rb') as file:\n",
    "    crop_model = pickle.load(file)\n",
    "\n",
    "# Load Fertilizer Prediction Model\n",
    "with open('fertilizer_prediction_model.pkl', 'rb') as file:\n",
    "    fertilizer_model = pickle.load(file)\n"
   ]
  },
  {
   "cell_type": "code",
   "execution_count": null,
   "metadata": {},
   "outputs": [],
   "source": [
    "import pandas as pd\n",
    "\n",
    "def recommend_crop_and_fertilizer(input_data):\n",
    "    \"\"\"\n",
    "    Given input conditions, this function predicts the recommended crop\n",
    "    and then suggests the best fertilizer for it.\n",
    "    \n",
    "    Parameters:\n",
    "    input_data (dict): Contains features required for crop recommendation.\n",
    "    \n",
    "    Returns:\n",
    "    dict: Contains the recommended crop and fertilizer.\n",
    "    \"\"\"\n",
    "\n",
    "    # Convert input dictionary to DataFrame for model prediction\n",
    "    input_df = pd.DataFrame([input_data])\n",
    "\n",
    "    # Step 1: Predict the crop\n",
    "    recommended_crop = crop_model.predict(input_df)[0]\n",
    "\n",
    "    # Step 2: Prepare input for Fertilizer Model\n",
    "    fertilizer_input = input_df.copy()\n",
    "    fertilizer_input['Crop Type'] = recommended_crop  # Inject the predicted crop\n",
    "\n",
    "    # Ensure that only relevant features for fertilizer prediction are used\n",
    "    fertilizer_features = ['Temparature', 'Humidity', 'Moisture', 'Soil Type', 'Crop Type', \n",
    "                           'Nitrogen', 'Potassium', 'Phosphorous']\n",
    "    \n",
    "    fertilizer_input = fertilizer_input[fertilizer_features]\n",
    "\n",
    "    # Step 3: Predict the fertilizer\n",
    "    recommended_fertilizer = fertilizer_model.predict(fertilizer_input)[0]\n",
    "\n",
    "    return {\n",
    "        \"Recommended Crop\": recommended_crop,\n",
    "        \"Recommended Fertilizer\": recommended_fertilizer\n",
    "    }\n",
    "\n",
    "# Example input data\n",
    "input_conditions = {\n",
    "    \"Temparature\": 30,\n",
    "    \"Humidity\": 60,\n",
    "    \"Moisture\": 40,\n",
    "    \"Soil Type\": \"Loamy\",\n",
    "    \"Nitrogen\": 20,\n",
    "    \"Potassium\": 10,\n",
    "    \"Phosphorous\": 15\n",
    "}\n",
    "\n",
    "result = recommend_crop_and_fertilizer(input_conditions)\n",
    "print(result)\n"
   ]
  },
  {
   "cell_type": "code",
   "execution_count": null,
   "metadata": {},
   "outputs": [],
   "source": []
  },
  {
   "cell_type": "code",
   "execution_count": null,
   "metadata": {},
   "outputs": [],
   "source": []
  },
  {
   "cell_type": "code",
   "execution_count": null,
   "metadata": {},
   "outputs": [],
   "source": []
  }
 ],
 "metadata": {
  "kernelspec": {
   "display_name": "mpenv",
   "language": "python",
   "name": "python3"
  },
  "language_info": {
   "name": "python",
   "version": "3.12.8"
  }
 },
 "nbformat": 4,
 "nbformat_minor": 2
}
